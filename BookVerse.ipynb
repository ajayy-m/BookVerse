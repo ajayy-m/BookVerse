{
 "cells": [
  {
   "cell_type": "code",
   "execution_count": 16,
   "id": "4a69bec4-ba61-40de-9faf-7ed72b095f26",
   "metadata": {},
   "outputs": [
    {
     "name": "stdout",
     "output_type": "stream",
     "text": [
      "Columns in dataset: Index(['Index', 'Book_ID', 'Genre', 'Average_Rating', 'Book_Name'], dtype='object')\n",
      "Choose from : Fantasy || Romance || Fiction || Mystery : \n",
      "\n"
     ]
    },
    {
     "name": "stdin",
     "output_type": "stream",
     "text": [
      "Enter the genre you're interested in:  Fantasy\n"
     ]
    },
    {
     "name": "stdout",
     "output_type": "stream",
     "text": [
      "Recommended Books in 'Fantasy' genre:\n",
      "    Book_ID           Book_Name  Average_Rating\n",
      "47      148  Kingdoms of Wonder            4.91\n",
      "13      114  Kingdoms of Wonder            4.77\n",
      "41      142  Kingdoms of Wonder            4.28\n",
      "6       107  Kingdoms of Wonder            4.10\n",
      "49      150       Dragon's Path            3.96\n"
     ]
    }
   ],
   "source": [
    "import pandas as pd\n",
    "from sklearn.neighbors import NearestNeighbors\n",
    "import numpy as np\n",
    "\n",
    "# Declare the File Path\n",
    "file_path = 'C:/Users/ajaym/Desktop/Utility/Project/Modified_Book_for_retail_with_Harry_Potter (2).xlsx'\n",
    "\n",
    "# Load the Excel file\n",
    "df = pd.read_excel(file_path)\n",
    "\n",
    "# Trim column names to remove extra spaces\n",
    "df.columns = df.columns.str.strip()\n",
    "\n",
    "# Debug: Print available column names\n",
    "print(\"Columns in dataset:\", df.columns)\n",
    "\n",
    "# Ensure required columns exist\n",
    "required_columns = {'Book_ID', 'Genre', 'Average_Rating', 'Book_Name'}\n",
    "missing_columns = required_columns - set(df.columns)\n",
    "\n",
    "if missing_columns:\n",
    "    print(f\"Missing columns in dataset: {missing_columns}\")\n",
    "    exit()  # Stop execution if columns are missing\n",
    "\n",
    "# One-hot encoding for genres\n",
    "genre_dummies = pd.get_dummies(df['Genre'], prefix='Genre')\n",
    "\n",
    "# Feature matrix for KNN\n",
    "X = pd.concat([df[['Book_ID', 'Average_Rating']], genre_dummies], axis=1)\n",
    "\n",
    "# Function to recommend books\n",
    "def recommend_books_by_genre_ml(genre, num_recommendations=5):\n",
    "    # Filter books belonging to the selected genre\n",
    "    genre_books = df[df['Genre'] == genre]\n",
    "\n",
    "    if genre_books.empty:\n",
    "        print(f\"No books found for genre '{genre}'.\")\n",
    "        return pd.DataFrame(columns=['Book_ID', 'Book_Name', 'Average_Rating'])\n",
    "\n",
    "    # Match feature set with books in the same genre\n",
    "    genre_books_features = X[X['Book_ID'].isin(genre_books['Book_ID'])].drop(columns=['Book_ID'])\n",
    "\n",
    "    # Train KNN model\n",
    "    knn = NearestNeighbors(n_neighbors=num_recommendations, algorithm='auto')\n",
    "    knn.fit(X.drop(columns=['Book_ID']))\n",
    "\n",
    "    # Find nearest books\n",
    "    distances, indices = knn.kneighbors(genre_books_features)\n",
    "\n",
    "    recommended_books = []\n",
    "    for idx_list in indices:\n",
    "        for idx in idx_list:\n",
    "            book = df.iloc[idx][['Book_ID', 'Book_Name', 'Average_Rating']]\n",
    "            recommended_books.append(book)\n",
    "\n",
    "    # Convert to DataFrame and remove duplicates\n",
    "    recommended_books_df = pd.DataFrame(recommended_books).drop_duplicates().sort_values(by='Average_Rating', ascending=False)\n",
    "    \n",
    "    return recommended_books_df.head(num_recommendations)\n",
    "\n",
    "# User input for genre\n",
    "print(\"Choose from : Fantasy || Romance || Fiction || Mystery : \\n\")\n",
    "genre = input(\"Enter the genre you're interested in: \")\n",
    "recommendations = recommend_books_by_genre_ml(genre=genre, num_recommendations=5)\n",
    "# Display results\n",
    "print(f\"Recommended Books in '{genre}' genre:\")\n",
    "print(recommendations)\n"
   ]
  },
  {
   "cell_type": "code",
   "execution_count": null,
   "id": "d4a16873-4aa6-48b8-9604-5c38ee2ac564",
   "metadata": {},
   "outputs": [],
   "source": []
  }
 ],
 "metadata": {
  "kernelspec": {
   "display_name": "Python 3 (ipykernel)",
   "language": "python",
   "name": "python3"
  },
  "language_info": {
   "codemirror_mode": {
    "name": "ipython",
    "version": 3
   },
   "file_extension": ".py",
   "mimetype": "text/x-python",
   "name": "python",
   "nbconvert_exporter": "python",
   "pygments_lexer": "ipython3",
   "version": "3.12.7"
  }
 },
 "nbformat": 4,
 "nbformat_minor": 5
}
